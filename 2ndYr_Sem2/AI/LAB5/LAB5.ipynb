{
 "cells": [
  {
   "cell_type": "markdown",
   "id": "b8210b19",
   "metadata": {},
   "source": [
    "## A.I. Assignment 5\n",
    "\n",
    "## Learning Goals\n",
    "\n",
    "By the end of this lab, you should be able to:\n",
    "* Get more familiar with tensors in pytorch \n",
    "* Create a simple multilayer perceptron model with pytorch\n",
    "* Visualise the parameters\n",
    "\n",
    "\n",
    "### Task\n",
    "\n",
    "Build a fully connected feed forward network that adds two bits. Determine the a propper achitecture for this network (what database you use for this problem? how many layers? how many neurons on each layer? what is the activation function? what is the loss function? etc)\n",
    "\n",
    "Create at least 3 such networks and compare their performance (how accurate they are?, how farst they are trained to get at 1 accuracy?)\n",
    "\n",
    "Display for the best one the weights for each layer.\n"
   ]
  },
  {
   "cell_type": "code",
   "execution_count": 75,
   "id": "e3614e5f",
   "metadata": {},
   "outputs": [],
   "source": [
    "import torch\n",
    "import torch.nn as nn\n",
    "from collections import OrderedDict"
   ]
  },
  {
   "cell_type": "code",
   "execution_count": 77,
   "id": "5ee7e7d7",
   "metadata": {},
   "outputs": [],
   "source": [
    "architectures = [\n",
    "    nn.Sequential(OrderedDict([\n",
    "        ('hidden', nn.Linear(2, 4)),    # 2 input features, 4 output features\n",
    "        ('activation1', nn.ReLU()),     # ReLU activation function\n",
    "        ('output', nn.Linear(4, 1)),    # 4 input features, 1 output feature\n",
    "        ('sigmoid', nn.Sigmoid())       # Sigmoid activation function\n",
    "    ])),\n",
    "    nn.Sequential(OrderedDict([\n",
    "        ('hidden1', nn.Linear(2, 8)),   # 2 input features, 8 output features\n",
    "        ('activation1', nn.ReLU()),     # ReLU activation function\n",
    "        ('hidden2', nn.Linear(8, 4)),   # 8 input features, 4 output features\n",
    "        ('activation2', nn.ReLU()),     # ReLU activation function\n",
    "        ('output', nn.Linear(4, 1)),    # 4 input features, 1 output feature\n",
    "        ('sigmoid', nn.Sigmoid())       # Sigmoid activation function\n",
    "    ])),\n",
    "    nn.Sequential(OrderedDict([\n",
    "        ('hidden1', nn.Linear(2, 16)),  # 2 input features, 16 output features\n",
    "        ('activation1', nn.Tanh()),     # Tanh activation function\n",
    "        ('hidden2', nn.Linear(16, 8)),  # 16 input features, 8 output features\n",
    "        ('activation2', nn.Tanh()),     # Tanh activation function\n",
    "        ('output', nn.Linear(8, 1)),    # 8 input features, 1 output feature\n",
    "        ('sigmoid', nn.Sigmoid())       # Sigmoid activation function\n",
    "    ]))\n",
    "]"
   ]
  },
  {
   "cell_type": "code",
   "execution_count": 79,
   "id": "665ae958",
   "metadata": {},
   "outputs": [
    {
     "name": "stdout",
     "output_type": "stream",
     "text": [
      "[Sequential(\n",
      "  (hidden): Linear(in_features=2, out_features=4, bias=True)\n",
      "  (activation1): ReLU()\n",
      "  (output): Linear(in_features=4, out_features=1, bias=True)\n",
      "  (sigmoid): Sigmoid()\n",
      "), Sequential(\n",
      "  (hidden1): Linear(in_features=2, out_features=8, bias=True)\n",
      "  (activation1): ReLU()\n",
      "  (hidden2): Linear(in_features=8, out_features=4, bias=True)\n",
      "  (activation2): ReLU()\n",
      "  (output): Linear(in_features=4, out_features=1, bias=True)\n",
      "  (sigmoid): Sigmoid()\n",
      "), Sequential(\n",
      "  (hidden1): Linear(in_features=2, out_features=16, bias=True)\n",
      "  (activation1): Tanh()\n",
      "  (hidden2): Linear(in_features=16, out_features=8, bias=True)\n",
      "  (activation2): Tanh()\n",
      "  (output): Linear(in_features=8, out_features=1, bias=True)\n",
      "  (sigmoid): Sigmoid()\n",
      ")]\n"
     ]
    }
   ],
   "source": [
    "print(architectures)"
   ]
  },
  {
   "cell_type": "code",
   "execution_count": 81,
   "id": "e26f0d3e",
   "metadata": {},
   "outputs": [
    {
     "name": "stdout",
     "output_type": "stream",
     "text": [
      "tensor([[0., 0.],\n",
      "        [0., 1.],\n",
      "        [1., 0.],\n",
      "        [1., 1.]])\n"
     ]
    }
   ],
   "source": [
    "data_in = torch.tensor([[0, 0], [0, 1], [1, 0], [1, 1]], dtype=torch.float32)\n",
    "print(data_in)"
   ]
  },
  {
   "cell_type": "code",
   "execution_count": 83,
   "id": "4fb16bbc",
   "metadata": {},
   "outputs": [
    {
     "name": "stdout",
     "output_type": "stream",
     "text": [
      "tensor([[0.],\n",
      "        [1.],\n",
      "        [1.],\n",
      "        [0.]])\n"
     ]
    }
   ],
   "source": [
    "data_target = torch.tensor([[0], [1], [1], [0]], dtype=torch.float32)\n",
    "print(data_target)"
   ]
  },
  {
   "cell_type": "code",
   "execution_count": 73,
   "id": "cde91f6f",
   "metadata": {},
   "outputs": [
    {
     "name": "stdout",
     "output_type": "stream",
     "text": [
      "Model 1: Loss = 0.0008308448013849556, Accuracy = 1.0\n",
      "Model 2: Loss = 0.0012236820766702294, Accuracy = 1.0\n",
      "Model 3: Loss = 0.0004362354229670018, Accuracy = 1.0\n"
     ]
    }
   ],
   "source": [
    "results = []\n",
    "for i, model in enumerate(architectures):\n",
    "    criterion = nn.BCELoss()\n",
    "    optimizer = torch.optim.SGD(model.parameters(), lr=0.1)\n",
    "    \n",
    "    epochs = 10000\n",
    "    for epoch in range(epochs):\n",
    "        optimizer.zero_grad()\n",
    "        output = model(data_in)\n",
    "        loss = criterion(output, data_target)\n",
    "        loss.backward()\n",
    "        optimizer.step()\n",
    "    \n",
    "    accuracy = ((output > 0.5).float() == data_target).float().mean().item()\n",
    "    results.append((i, loss.item(), accuracy))\n",
    "    print(f\"Model {i+1}: Loss = {loss.item()}, Accuracy = {accuracy}\")"
   ]
  },
  {
   "cell_type": "code",
   "execution_count": 87,
   "id": "dff3ec1a",
   "metadata": {},
   "outputs": [
    {
     "data": {
      "image/png": "[encoded data removed]",
      "text/plain": [
       "<Figure size 800x600 with 1 Axes>"
      ]
     },
     "metadata": {},
     "output_type": "display_data"
    }
   ],
   "source": [
    "import matplotlib.pyplot as plt\n",
    "\n",
    "best_model_index = max(results, key=lambda x: x[2])[0]\n",
    "best_model = architectures[best_model_index]\n",
    "\n",
    "with torch.no_grad():\n",
    "    predictions = best_model(data_in)\n",
    "\n",
    "binary_predictions = (predictions > 0.5).float()\n",
    "\n",
    "plt.figure(figsize=(8, 6))\n",
    "\n",
    "plt.scatter(data_in[:, 0], data_in[:, 1], c=data_target.squeeze(), label='Target (Actual)', cmap='viridis', marker='o', s=200, edgecolor='k')\n",
    "\n",
    "plt.scatter(data_in[:, 0], data_in[:, 1], c=binary_predictions.squeeze(), label='Predictions', cmap='coolwarm', marker='x', s=200)\n",
    "\n",
    "plt.title('Predictions vs. Target Values for XOR')\n",
    "plt.xlabel('Input Feature 1')\n",
    "plt.ylabel('Input Feature 2')\n",
    "plt.legend()\n",
    "plt.grid(True)\n",
    "plt.show()"
   ]
  },
  {
   "cell_type": "code",
   "execution_count": 85,
   "id": "c1a7518b",
   "metadata": {},
   "outputs": [
    {
     "name": "stdout",
     "output_type": "stream",
     "text": [
      "Best Model: Model 1\n",
      "Best Model Weights: OrderedDict({'hidden.weight': tensor([[ 0.6448, -0.6263],\n",
      "        [-0.0533,  0.5167],\n",
      "        [ 0.4033,  0.1805],\n",
      "        [-0.1026,  0.0673]]), 'hidden.bias': tensor([-0.1159, -0.3632,  0.3937,  0.4374]), 'output.weight': tensor([[0.0069, 0.0956, 0.3410, 0.2119]]), 'output.bias': tensor([0.4876])})\n"
     ]
    }
   ],
   "source": [
    "best_model_index = max(results, key=lambda x: x[2])[0]\n",
    "print(f\"Best Model: Model {best_model_index + 1}\")\n",
    "print(f\"Best Model Weights: {architectures[best_model_index].state_dict()}\")"
   ]
  }
 ],
 "metadata": {
  "kernelspec": {
   "display_name": "Python 3 (ipykernel)",
   "language": "python",
   "name": "python3"
  },
  "language_info": {
   "codemirror_mode": {
    "name": "ipython",
    "version": 3
   },
   "file_extension": ".py",
   "mimetype": "text/x-python",
   "name": "python",
   "nbconvert_exporter": "python",
   "pygments_lexer": "ipython3",
   "version": "3.12.7"
  }
 },
 "nbformat": 4,
 "nbformat_minor": 5
}
